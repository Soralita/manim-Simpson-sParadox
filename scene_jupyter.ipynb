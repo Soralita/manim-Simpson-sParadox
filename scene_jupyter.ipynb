{
 "cells": [
  {
   "metadata": {
    "ExecuteTime": {
     "end_time": "2024-08-04T14:00:22.299782Z",
     "start_time": "2024-08-04T14:00:21.980265Z"
    }
   },
   "cell_type": "code",
   "source": "import jupyter_manim",
   "id": "ec10a64ca31b0026",
   "outputs": [
    {
     "ename": "ModuleNotFoundError",
     "evalue": "No module named 'jupyter_manim'",
     "output_type": "error",
     "traceback": [
      "\u001B[1;31m---------------------------------------------------------------------------\u001B[0m",
      "\u001B[1;31mModuleNotFoundError\u001B[0m                       Traceback (most recent call last)",
      "Cell \u001B[1;32mIn[2], line 1\u001B[0m\n\u001B[1;32m----> 1\u001B[0m \u001B[38;5;28;01mimport\u001B[39;00m \u001B[38;5;21;01mjupyter_manim\u001B[39;00m\n",
      "\u001B[1;31mModuleNotFoundError\u001B[0m: No module named 'jupyter_manim'"
     ]
    }
   ],
   "execution_count": 2
  },
  {
   "cell_type": "code",
   "id": "initial_id",
   "metadata": {
    "collapsed": true,
    "ExecuteTime": {
     "end_time": "2024-08-04T13:59:15.170144Z",
     "start_time": "2024-08-04T13:59:15.159460Z"
    }
   },
   "source": [
    "%%manim -qm -v WARNING SquareToCircle\n",
    "\n",
    "from manim import *\n",
    "class SquareToCircle(Scene):\n",
    "    def construct(self):\n",
    "        square = Square()\n",
    "        circle = Circle()\n",
    "        circle.set_fill(PINK, opacity=0.5)\n",
    "        self.play(Create(square))\n",
    "        self.play(Transform(square, circle))\n",
    "        self.wait()"
   ],
   "outputs": [
    {
     "name": "stderr",
     "output_type": "stream",
     "text": [
      "UsageError: Cell magic `%%manim` not found.\n"
     ]
    }
   ],
   "execution_count": 1
  },
  {
   "metadata": {
    "ExecuteTime": {
     "end_time": "2024-08-04T16:24:31.878695Z",
     "start_time": "2024-08-04T16:24:30.648233Z"
    }
   },
   "cell_type": "code",
   "source": [
    "from manim import *\n",
    "MathTex(\"{\\\\frac{81}{87} = 0.93}\").submobjects"
   ],
   "id": "ded6f987e1580dc2",
   "outputs": [
    {
     "data": {
      "text/plain": [
       "\u001B[2;36m[08/05/24 00:24:30]\u001B[0m\u001B[2;36m \u001B[0m\u001B[32mINFO    \u001B[0m \u001B[1;33mWriting\u001B[0m \u001B[1m{\u001B[0m\\frac\u001B[1m{\u001B[0m\u001B[32m81\u001B[0m\u001B[1m}\u001B[0m\u001B[1m{\u001B[0m\u001B[32m87\u001B[0m\u001B[1m}\u001B[0m = \u001B[32m0.93\u001B[0m\u001B[1m}\u001B[0m to                              \u001B]8;id=729261;file://C:\\Users\\Soral\\anaconda3\\envs\\pythonProject\\Lib\\site-packages\\manim\\utils\\tex_file_writing.py\u001B\\\u001B[2mtex_file_writing.py\u001B[0m\u001B]8;;\u001B\\\u001B[2m:\u001B[0m\u001B]8;id=428860;file://C:\\Users\\Soral\\anaconda3\\envs\\pythonProject\\Lib\\site-packages\\manim\\utils\\tex_file_writing.py#109\u001B\\\u001B[2m109\u001B[0m\u001B]8;;\u001B\\\n",
       "\u001B[2;36m                    \u001B[0m         media\\Tex\\1b97b670dab2a488.tex                                 \u001B[2m                       \u001B[0m\n"
      ],
      "text/html": [
       "<pre style=\"white-space:pre;overflow-x:auto;line-height:normal;font-family:Menlo,'DejaVu Sans Mono',consolas,'Courier New',monospace\"><span style=\"color: #7fbfbf; text-decoration-color: #7fbfbf\">[08/05/24 00:24:30] </span><span style=\"color: #008000; text-decoration-color: #008000\">INFO    </span> <span style=\"color: #808000; text-decoration-color: #808000; font-weight: bold\">Writing</span> <span style=\"font-weight: bold\">{</span>\\frac<span style=\"font-weight: bold\">{</span><span style=\"color: #008000; text-decoration-color: #008000\">81</span><span style=\"font-weight: bold\">}{</span><span style=\"color: #008000; text-decoration-color: #008000\">87</span><span style=\"font-weight: bold\">}</span> = <span style=\"color: #008000; text-decoration-color: #008000\">0.93</span><span style=\"font-weight: bold\">}</span> to                              <a href=\"file://C:\\Users\\Soral\\anaconda3\\envs\\pythonProject\\Lib\\site-packages\\manim\\utils\\tex_file_writing.py\" target=\"_blank\"><span style=\"color: #7f7f7f; text-decoration-color: #7f7f7f\">tex_file_writing.py</span></a><span style=\"color: #7f7f7f; text-decoration-color: #7f7f7f\">:</span><a href=\"file://C:\\Users\\Soral\\anaconda3\\envs\\pythonProject\\Lib\\site-packages\\manim\\utils\\tex_file_writing.py#109\" target=\"_blank\"><span style=\"color: #7f7f7f; text-decoration-color: #7f7f7f\">109</span></a>\n",
       "<span style=\"color: #7fbfbf; text-decoration-color: #7fbfbf\">                    </span>         media\\Tex\\1b97b670dab2a488.tex                                 <span style=\"color: #7f7f7f; text-decoration-color: #7f7f7f\">                       </span>\n",
       "</pre>\n"
      ]
     },
     "metadata": {},
     "output_type": "display_data"
    },
    {
     "data": {
      "text/plain": [
       "[SingleStringMathTex('{\\\\frac{81}{87} = 0.93}')]"
      ]
     },
     "execution_count": 7,
     "metadata": {},
     "output_type": "execute_result"
    }
   ],
   "execution_count": 7
  },
  {
   "metadata": {
    "ExecuteTime": {
     "end_time": "2024-08-04T16:27:25.741508Z",
     "start_time": "2024-08-04T16:27:25.591634Z"
    }
   },
   "cell_type": "code",
   "source": "MathTex(\"{{81}}/{{87}}={{0.93}}\")",
   "id": "32aa76defb9e816d",
   "outputs": [
    {
     "data": {
      "text/plain": [
       "MathTex('81 / 87 = 0.93')"
      ]
     },
     "execution_count": 12,
     "metadata": {},
     "output_type": "execute_result"
    }
   ],
   "execution_count": 12
  },
  {
   "metadata": {
    "ExecuteTime": {
     "end_time": "2024-08-04T16:37:24.637438Z",
     "start_time": "2024-08-04T16:37:24.203010Z"
    }
   },
   "cell_type": "code",
   "source": [
    "women=IntegerTable(\n",
    "    [[71,192,263],\n",
    "     [25,55,80]],\n",
    "    row_labels=[Text(\"吃药\"),Text(\"不吃药\")],\n",
    "    col_labels=[Text(\"没有康复\"),Text(\"康复\"),Text(\"总数\")],\n",
    "    top_left_entry=Star().scale(0.3),\n",
    "    include_outer_lines=False,\n",
    "    line_config={\"stroke_width\":1,\"color\":YELLOW},\n",
    ")"
   ],
   "id": "abfcf85e34a8f77a",
   "outputs": [],
   "execution_count": 13
  },
  {
   "metadata": {
    "ExecuteTime": {
     "end_time": "2024-08-04T16:40:47.704342Z",
     "start_time": "2024-08-04T16:40:47.683291Z"
    }
   },
   "cell_type": "code",
   "source": "women[0][5].submobjects[0]",
   "id": "b181cac4f085bbb2",
   "outputs": [
    {
     "ename": "TypeError",
     "evalue": "int() argument must be a string, a bytes-like object or a real number, not 'MathTex'",
     "output_type": "error",
     "traceback": [
      "\u001B[1;31m---------------------------------------------------------------------------\u001B[0m",
      "\u001B[1;31mTypeError\u001B[0m                                 Traceback (most recent call last)",
      "Cell \u001B[1;32mIn[31], line 1\u001B[0m\n\u001B[1;32m----> 1\u001B[0m \u001B[38;5;28;43mint\u001B[39;49m\u001B[43m(\u001B[49m\u001B[43mwomen\u001B[49m\u001B[43m[\u001B[49m\u001B[38;5;241;43m0\u001B[39;49m\u001B[43m]\u001B[49m\u001B[43m[\u001B[49m\u001B[38;5;241;43m5\u001B[39;49m\u001B[43m]\u001B[49m\u001B[38;5;241;43m.\u001B[39;49m\u001B[43msubmobjects\u001B[49m\u001B[43m[\u001B[49m\u001B[38;5;241;43m0\u001B[39;49m\u001B[43m]\u001B[49m\u001B[43m)\u001B[49m\n",
      "\u001B[1;31mTypeError\u001B[0m: int() argument must be a string, a bytes-like object or a real number, not 'MathTex'"
     ]
    }
   ],
   "execution_count": 31
  },
  {
   "metadata": {
    "ExecuteTime": {
     "end_time": "2024-08-04T16:44:05.359365Z",
     "start_time": "2024-08-04T16:44:05.351977Z"
    }
   },
   "cell_type": "code",
   "source": "women.get_rows()[0]",
   "id": "730a3a724119dc50",
   "outputs": [
    {
     "data": {
      "text/plain": [
       "VGroup(Star, Text('没有康复'), Text('康复'), Text('总数'))"
      ]
     },
     "execution_count": 45,
     "metadata": {},
     "output_type": "execute_result"
    }
   ],
   "execution_count": 45
  },
  {
   "metadata": {
    "ExecuteTime": {
     "end_time": "2024-08-04T17:08:55.469651Z",
     "start_time": "2024-08-04T17:08:55.465358Z"
    }
   },
   "cell_type": "code",
   "source": "print(f\"=\"*80)",
   "id": "81c832a3880c24ec",
   "outputs": [
    {
     "name": "stdout",
     "output_type": "stream",
     "text": [
      "================================================================================\n"
     ]
    }
   ],
   "execution_count": 52
  }
 ],
 "metadata": {
  "kernelspec": {
   "display_name": "Python 3",
   "language": "python",
   "name": "python3"
  },
  "language_info": {
   "codemirror_mode": {
    "name": "ipython",
    "version": 2
   },
   "file_extension": ".py",
   "mimetype": "text/x-python",
   "name": "python",
   "nbconvert_exporter": "python",
   "pygments_lexer": "ipython2",
   "version": "2.7.6"
  }
 },
 "nbformat": 4,
 "nbformat_minor": 5
}
